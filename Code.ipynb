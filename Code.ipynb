{
  "nbformat": 4,
  "nbformat_minor": 0,
  "metadata": {
    "colab": {
      "provenance": [],
      "authorship_tag": "ABX9TyPcWUemW0fm2Pt4XIGz5nVX",
      "include_colab_link": true
    },
    "kernelspec": {
      "name": "python3",
      "display_name": "Python 3"
    },
    "language_info": {
      "name": "python"
    }
  },
  "cells": [
    {
      "cell_type": "markdown",
      "metadata": {
        "id": "view-in-github",
        "colab_type": "text"
      },
      "source": [
        "<a href=\"https://colab.research.google.com/github/SupreetHegde/TestVagrant-Coding-Assessment/blob/main/Code.ipynb\" target=\"_parent\"><img src=\"https://colab.research.google.com/assets/colab-badge.svg\" alt=\"Open In Colab\"/></a>"
      ]
    },
    {
      "cell_type": "code",
      "execution_count": null,
      "metadata": {
        "id": "YLsKJ26fwKMe"
      },
      "outputs": [],
      "source": [
        "from itertools import combinations\n",
        "\n",
        "das = {\n",
        "    \"TOI\": [3, 5, 6],\n",
        "    \"HT\": [2, 4, 4],\n",
        "    \"Hindu\": [2.5, 4, 4],\n",
        "    \"ET\": [4, 4, 10],\n",
        "    \"BM\": [1.5, 1.5, 1.5],\n",
        "    \n",
        "}\n",
        "\n",
        "cost = { paper:(prices[0]*5 + prices[1] + prices[2]) for paper, prices in das.items() }\n",
        "\n",
        "budget = int(input())\n",
        "\n",
        "result = []\n",
        "for papers in combinations(cost.keys(), 2):\n",
        "    if cost[papers[0]] + cost[papers[1]] <= budget:\n",
        "        result += [set(papers)]\n",
        "\n",
        "print(*result,sep=',')"
      ]
    }
  ]
}